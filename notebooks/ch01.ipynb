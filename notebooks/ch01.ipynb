{
 "cells": [
  {
   "cell_type": "markdown",
   "metadata": {},
   "source": [
    "# [第1章: 準備運動](https://nlp100.github.io/ja/ch01.html)"
   ]
  },
  {
   "cell_type": "markdown",
   "metadata": {},
   "source": [
    "## 00. 文字列の逆順"
   ]
  },
  {
   "cell_type": "code",
   "execution_count": 1,
   "metadata": {},
   "outputs": [
    {
     "data": {
      "text/plain": [
       "'desserts'"
      ]
     },
     "execution_count": 1,
     "metadata": {},
     "output_type": "execute_result"
    }
   ],
   "source": [
    "\"stressed\"[::-1]"
   ]
  },
  {
   "cell_type": "markdown",
   "metadata": {},
   "source": [
    "## 01. 「パタトクカシーー」"
   ]
  },
  {
   "cell_type": "code",
   "execution_count": 2,
   "metadata": {},
   "outputs": [
    {
     "data": {
      "text/plain": [
       "'パトカー'"
      ]
     },
     "execution_count": 2,
     "metadata": {},
     "output_type": "execute_result"
    }
   ],
   "source": [
    "\"パタトクカシーー\"[0::2]"
   ]
  },
  {
   "cell_type": "markdown",
   "metadata": {},
   "source": [
    "## 02. 「パトカー」＋「タクシー」＝「パタトクカシーー」"
   ]
  },
  {
   "cell_type": "code",
   "execution_count": 3,
   "metadata": {},
   "outputs": [
    {
     "data": {
      "text/plain": [
       "'パタトクカシーー'"
      ]
     },
     "execution_count": 3,
     "metadata": {},
     "output_type": "execute_result"
    }
   ],
   "source": [
    "\"\".join(p+t for p, t in zip(\"パトカー\", \"タクシー\"))"
   ]
  },
  {
   "cell_type": "markdown",
   "metadata": {},
   "source": [
    "## 03. 円周率"
   ]
  },
  {
   "cell_type": "code",
   "execution_count": 4,
   "metadata": {},
   "outputs": [
    {
     "data": {
      "text/plain": [
       "[3, 1, 4, 1, 5, 9, 2, 6, 5, 3, 5, 8, 9, 7, 9]"
      ]
     },
     "execution_count": 4,
     "metadata": {},
     "output_type": "execute_result"
    }
   ],
   "source": [
    "SENTENCE = \"Now I need a drink, alcoholic of course, after the heavy lectures involving quantum mechanics.\"\n",
    "\n",
    "word_counts = list(sum(w.isalpha() for w in word) for word in SENTENCE.split())\n",
    "word_counts"
   ]
  },
  {
   "cell_type": "markdown",
   "metadata": {},
   "source": [
    "## 04. 元素記号"
   ]
  },
  {
   "cell_type": "code",
   "execution_count": 5,
   "metadata": {},
   "outputs": [
    {
     "data": {
      "text/plain": [
       "{'H': 1,\n",
       " 'He': 2,\n",
       " 'Li': 3,\n",
       " 'Be': 4,\n",
       " 'B': 5,\n",
       " 'C': 6,\n",
       " 'N': 7,\n",
       " 'O': 8,\n",
       " 'F': 9,\n",
       " 'Ne': 10,\n",
       " 'Na': 11,\n",
       " 'Mi': 12,\n",
       " 'Al': 13,\n",
       " 'Si': 14,\n",
       " 'P': 15,\n",
       " 'S': 16,\n",
       " 'Cl': 17,\n",
       " 'Ar': 18,\n",
       " 'K': 19,\n",
       " 'Ca': 20}"
      ]
     },
     "execution_count": 5,
     "metadata": {},
     "output_type": "execute_result"
    }
   ],
   "source": [
    "SENTENCE = \"Hi He Lied Because Boron Could Not Oxidize Fluorine. New Nations Might Also Sign Peace Security Clause. Arthur King Can.\"\n",
    "\n",
    "{\n",
    "    word[:1] if i in {1, 5, 6, 7, 8, 9, 15, 16, 19} else word[:2]: i\n",
    "    for i, word in enumerate(SENTENCE.split(), start=1)\n",
    "}"
   ]
  },
  {
   "cell_type": "markdown",
   "metadata": {},
   "source": [
    "## 05. n-gram"
   ]
  },
  {
   "cell_type": "code",
   "execution_count": 6,
   "metadata": {},
   "outputs": [
    {
     "name": "stdout",
     "output_type": "stream",
     "text": [
      "文字 2-Gram: ['I ', ' a', 'am', 'm ', ' a', 'an', 'n ', ' N', 'NL', 'LP', 'Pe', 'er']\n",
      "単語 2-Gram: [['I', 'am'], ['am', 'an'], ['an', 'NLPer']]\n"
     ]
    }
   ],
   "source": [
    "def n_gram(word: str | list[str], n: int) -> list[str] | list[list[str]]:\n",
    "    return list(word[i:i+n] for i in range(len(word) - n + 1))\n",
    "\n",
    "SENTENCE = \"I am an NLPer\"\n",
    "\n",
    "ans = n_gram(SENTENCE, 2)\n",
    "print(f\"文字 2-Gram: {ans}\")\n",
    "\n",
    "ans = n_gram(SENTENCE.split(\" \"), 2)\n",
    "print(f\"単語 2-Gram: {ans}\")"
   ]
  },
  {
   "cell_type": "markdown",
   "metadata": {},
   "source": [
    "## 06. 集合"
   ]
  },
  {
   "cell_type": "code",
   "execution_count": 7,
   "metadata": {},
   "outputs": [
    {
     "name": "stdout",
     "output_type": "stream",
     "text": [
      "X: {'pa', 'ad', 'is', 'ar', 'di', 'ra', 'ap', 'se'}\n",
      "Y: {'pa', 'ar', 'ph', 'gr', 'ra', 'ap', 'ag'}\n",
      "X | Y: {'pa', 'ad', 'is', 'ar', 'di', 'ph', 'gr', 'ra', 'ap', 'ag', 'se'}\n",
      "X & Y: {'pa', 'ra', 'ar', 'ap'}\n",
      "X - Y: {'di', 'is', 'ad', 'se'}\n",
      "'se': False\n"
     ]
    }
   ],
   "source": [
    "TEXT_1 = \"paraparaparadise\"\n",
    "TEXT_2 = \"paragraph\"\n",
    "\n",
    "x = set(n_gram(TEXT_1, 2))\n",
    "y = set(n_gram(TEXT_2, 2))\n",
    "print(f\"X: {x}\")\n",
    "print(f\"Y: {y}\")\n",
    "print(f\"X | Y: {x|y}\")\n",
    "print(f\"X & Y: {x&y}\")\n",
    "print(f\"X - Y: {x-y}\")\n",
    "print(f\"'se': {'se' in x&y}\")"
   ]
  },
  {
   "cell_type": "markdown",
   "metadata": {},
   "source": [
    "## 07. テンプレートによる文生成"
   ]
  },
  {
   "cell_type": "code",
   "execution_count": 8,
   "metadata": {},
   "outputs": [
    {
     "name": "stdout",
     "output_type": "stream",
     "text": [
      "12時の気温は22.4\n"
     ]
    }
   ],
   "source": [
    "def template(x: int, y: str, z: float) -> str:\n",
    "    return f\"{x}時の{y}は{z}\"\n",
    "\n",
    "print(template(x=12, y=\"気温\", z=22.4))"
   ]
  },
  {
   "cell_type": "markdown",
   "metadata": {},
   "source": [
    "## 08. 暗号文"
   ]
  },
  {
   "cell_type": "code",
   "execution_count": 9,
   "metadata": {},
   "outputs": [
    {
     "name": "stdout",
     "output_type": "stream",
     "text": [
      "Hvool, dliow!\n",
      "Hello, world!\n"
     ]
    }
   ],
   "source": [
    "def cipher(sentence: str) -> str:\n",
    "    ans = \"\"\n",
    "    for s in sentence:\n",
    "        ans += chr(219 - ord(s)) if s.islower() and s.isalpha() else s\n",
    "\n",
    "    return ans\n",
    "\n",
    "ans = cipher(\"Hello, world!\")\n",
    "print(ans)\n",
    "\n",
    "ans = cipher(ans)\n",
    "print(ans)"
   ]
  },
  {
   "cell_type": "markdown",
   "metadata": {},
   "source": [
    "## 09. Typoglycemia"
   ]
  },
  {
   "cell_type": "code",
   "execution_count": 10,
   "metadata": {},
   "outputs": [
    {
     "data": {
      "text/plain": [
       "'I c’onludt blvieee that I cluod acltluay uadrsentnd what I was rdneiag : the pehonnaeml pewor of the hmuan mind .'"
      ]
     },
     "execution_count": 10,
     "metadata": {},
     "output_type": "execute_result"
    }
   ],
   "source": [
    "SENTENCE = \"I couldn’t believe that I could actually understand what I was reading : the phenomenal power of the human mind .\"\n",
    "\n",
    "import random\n",
    "random.seed(42)\n",
    "\n",
    "def shuffle_word(sentence: str) -> str:\n",
    "    ans = []\n",
    "    for s in sentence.split():\n",
    "        if len(s) <= 4:\n",
    "            ans.append(s)\n",
    "        else:\n",
    "            start = s[0]\n",
    "            end = s[-1]\n",
    "            inner = random.sample(list(s[1:-1]), len(s[1:-1]))\n",
    "            ans.append(\"\".join([start] + inner + [end]))\n",
    "\n",
    "    return \" \".join(ans)\n",
    "\n",
    "\n",
    "shuffle_word(SENTENCE)"
   ]
  }
 ],
 "metadata": {
  "kernelspec": {
   "display_name": ".venv",
   "language": "python",
   "name": "python3"
  },
  "language_info": {
   "codemirror_mode": {
    "name": "ipython",
    "version": 3
   },
   "file_extension": ".py",
   "mimetype": "text/x-python",
   "name": "python",
   "nbconvert_exporter": "python",
   "pygments_lexer": "ipython3",
   "version": "3.10.13"
  }
 },
 "nbformat": 4,
 "nbformat_minor": 2
}
