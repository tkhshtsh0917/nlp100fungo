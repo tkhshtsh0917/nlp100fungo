{
 "cells": [
  {
   "cell_type": "markdown",
   "metadata": {},
   "source": [
    "# [第2章: UNIXコマンド](https://nlp100.github.io/ja/ch02.html)"
   ]
  },
  {
   "cell_type": "code",
   "execution_count": 1,
   "metadata": {},
   "outputs": [
    {
     "data": {
      "text/html": [
       "<div><style>\n",
       ".dataframe > thead > tr > th,\n",
       ".dataframe > tbody > tr > td {\n",
       "  text-align: right;\n",
       "  white-space: pre-wrap;\n",
       "}\n",
       "</style>\n",
       "<small>shape: (2_780, 4)</small><table border=\"1\" class=\"dataframe\"><thead><tr><th>column_1</th><th>column_2</th><th>column_3</th><th>column_4</th></tr><tr><td>str</td><td>str</td><td>i64</td><td>i64</td></tr></thead><tbody><tr><td>&quot;Mary&quot;</td><td>&quot;F&quot;</td><td>7065</td><td>1880</td></tr><tr><td>&quot;Anna&quot;</td><td>&quot;F&quot;</td><td>2604</td><td>1880</td></tr><tr><td>&quot;Emma&quot;</td><td>&quot;F&quot;</td><td>2003</td><td>1880</td></tr><tr><td>&quot;Elizabeth&quot;</td><td>&quot;F&quot;</td><td>1939</td><td>1880</td></tr><tr><td>&quot;Minnie&quot;</td><td>&quot;F&quot;</td><td>1746</td><td>1880</td></tr><tr><td>&quot;Margaret&quot;</td><td>&quot;F&quot;</td><td>1578</td><td>1880</td></tr><tr><td>&quot;Ida&quot;</td><td>&quot;F&quot;</td><td>1472</td><td>1880</td></tr><tr><td>&quot;Alice&quot;</td><td>&quot;F&quot;</td><td>1414</td><td>1880</td></tr><tr><td>&quot;Bertha&quot;</td><td>&quot;F&quot;</td><td>1320</td><td>1880</td></tr><tr><td>&quot;Sarah&quot;</td><td>&quot;F&quot;</td><td>1288</td><td>1880</td></tr><tr><td>&quot;John&quot;</td><td>&quot;M&quot;</td><td>9655</td><td>1880</td></tr><tr><td>&quot;William&quot;</td><td>&quot;M&quot;</td><td>9532</td><td>1880</td></tr><tr><td>&hellip;</td><td>&hellip;</td><td>&hellip;</td><td>&hellip;</td></tr><tr><td>&quot;Harper&quot;</td><td>&quot;F&quot;</td><td>10582</td><td>2018</td></tr><tr><td>&quot;Evelyn&quot;</td><td>&quot;F&quot;</td><td>10376</td><td>2018</td></tr><tr><td>&quot;Liam&quot;</td><td>&quot;M&quot;</td><td>19837</td><td>2018</td></tr><tr><td>&quot;Noah&quot;</td><td>&quot;M&quot;</td><td>18267</td><td>2018</td></tr><tr><td>&quot;William&quot;</td><td>&quot;M&quot;</td><td>14516</td><td>2018</td></tr><tr><td>&quot;James&quot;</td><td>&quot;M&quot;</td><td>13525</td><td>2018</td></tr><tr><td>&quot;Oliver&quot;</td><td>&quot;M&quot;</td><td>13389</td><td>2018</td></tr><tr><td>&quot;Benjamin&quot;</td><td>&quot;M&quot;</td><td>13381</td><td>2018</td></tr><tr><td>&quot;Elijah&quot;</td><td>&quot;M&quot;</td><td>12886</td><td>2018</td></tr><tr><td>&quot;Lucas&quot;</td><td>&quot;M&quot;</td><td>12585</td><td>2018</td></tr><tr><td>&quot;Mason&quot;</td><td>&quot;M&quot;</td><td>12435</td><td>2018</td></tr><tr><td>&quot;Logan&quot;</td><td>&quot;M&quot;</td><td>12352</td><td>2018</td></tr></tbody></table></div>"
      ],
      "text/plain": [
       "shape: (2_780, 4)\n",
       "┌───────────┬──────────┬──────────┬──────────┐\n",
       "│ column_1  ┆ column_2 ┆ column_3 ┆ column_4 │\n",
       "│ ---       ┆ ---      ┆ ---      ┆ ---      │\n",
       "│ str       ┆ str      ┆ i64      ┆ i64      │\n",
       "╞═══════════╪══════════╪══════════╪══════════╡\n",
       "│ Mary      ┆ F        ┆ 7065     ┆ 1880     │\n",
       "│ Anna      ┆ F        ┆ 2604     ┆ 1880     │\n",
       "│ Emma      ┆ F        ┆ 2003     ┆ 1880     │\n",
       "│ Elizabeth ┆ F        ┆ 1939     ┆ 1880     │\n",
       "│ …         ┆ …        ┆ …        ┆ …        │\n",
       "│ Elijah    ┆ M        ┆ 12886    ┆ 2018     │\n",
       "│ Lucas     ┆ M        ┆ 12585    ┆ 2018     │\n",
       "│ Mason     ┆ M        ┆ 12435    ┆ 2018     │\n",
       "│ Logan     ┆ M        ┆ 12352    ┆ 2018     │\n",
       "└───────────┴──────────┴──────────┴──────────┘"
      ]
     },
     "execution_count": 1,
     "metadata": {},
     "output_type": "execute_result"
    }
   ],
   "source": [
    "import os\n",
    "from pathlib import Path\n",
    "\n",
    "import polars as pl\n",
    "\n",
    "\n",
    "FILE_PATH = Path(os.getcwd()) / \"popular-names.txt\"\n",
    "\n",
    "df = pl.read_csv(FILE_PATH, separator=\"\\t\", has_header=False)\n",
    "df"
   ]
  },
  {
   "cell_type": "markdown",
   "metadata": {},
   "source": [
    "## 10. 行数のカウント"
   ]
  },
  {
   "cell_type": "code",
   "execution_count": 2,
   "metadata": {},
   "outputs": [
    {
     "data": {
      "text/plain": [
       "2780"
      ]
     },
     "execution_count": 2,
     "metadata": {},
     "output_type": "execute_result"
    }
   ],
   "source": [
    "len(df)"
   ]
  },
  {
   "cell_type": "markdown",
   "metadata": {},
   "source": [
    "## 11. タブをスペースに置換"
   ]
  },
  {
   "cell_type": "code",
   "execution_count": 3,
   "metadata": {},
   "outputs": [],
   "source": [
    "REPLACED_FILE = Path(os.getcwd()) / \"replaced.txt\"\n",
    "\n",
    "df.write_csv(REPLACED_FILE, has_header=False, separator=\" \")"
   ]
  },
  {
   "cell_type": "markdown",
   "metadata": {},
   "source": [
    "## 12. 1列目をcol1.txtに，2列目をcol2.txtに保存"
   ]
  },
  {
   "cell_type": "code",
   "execution_count": 4,
   "metadata": {},
   "outputs": [],
   "source": [
    "COLUMN_1_FILE = Path(os.getcwd()) / \"col1.txt\"\n",
    "COLUMN_2_FILE = Path(os.getcwd()) / \"col2.txt\"\n",
    "\n",
    "df[:, 0].to_frame().write_csv(COLUMN_1_FILE, has_header=False)\n",
    "df[:, 1].to_frame().write_csv(COLUMN_2_FILE, has_header=False)"
   ]
  },
  {
   "cell_type": "markdown",
   "metadata": {},
   "source": [
    "## 13. col1.txtとcol2.txtをマージ"
   ]
  },
  {
   "cell_type": "code",
   "execution_count": 5,
   "metadata": {},
   "outputs": [],
   "source": [
    "MERGED_FILE = Path(os.getcwd()) / \"merged.txt\"\n",
    "\n",
    "col1 = pl.read_csv(COLUMN_1_FILE, has_header=False)\n",
    "col2 = pl.read_csv(COLUMN_2_FILE, has_header=False)\n",
    "\n",
    "merged = col1.with_columns(col2[:, 0].alias(\"column_2\"))\n",
    "merged.write_csv(MERGED_FILE, has_header=False, separator=\"\\t\")"
   ]
  },
  {
   "cell_type": "markdown",
   "metadata": {},
   "source": [
    "## 14. 先頭からN行を出力"
   ]
  },
  {
   "cell_type": "code",
   "execution_count": 6,
   "metadata": {},
   "outputs": [
    {
     "data": {
      "text/html": [
       "<div><style>\n",
       ".dataframe > thead > tr > th,\n",
       ".dataframe > tbody > tr > td {\n",
       "  text-align: right;\n",
       "  white-space: pre-wrap;\n",
       "}\n",
       "</style>\n",
       "<small>shape: (5, 4)</small><table border=\"1\" class=\"dataframe\"><thead><tr><th>column_1</th><th>column_2</th><th>column_3</th><th>column_4</th></tr><tr><td>str</td><td>str</td><td>i64</td><td>i64</td></tr></thead><tbody><tr><td>&quot;Mary&quot;</td><td>&quot;F&quot;</td><td>7065</td><td>1880</td></tr><tr><td>&quot;Anna&quot;</td><td>&quot;F&quot;</td><td>2604</td><td>1880</td></tr><tr><td>&quot;Emma&quot;</td><td>&quot;F&quot;</td><td>2003</td><td>1880</td></tr><tr><td>&quot;Elizabeth&quot;</td><td>&quot;F&quot;</td><td>1939</td><td>1880</td></tr><tr><td>&quot;Minnie&quot;</td><td>&quot;F&quot;</td><td>1746</td><td>1880</td></tr></tbody></table></div>"
      ],
      "text/plain": [
       "shape: (5, 4)\n",
       "┌───────────┬──────────┬──────────┬──────────┐\n",
       "│ column_1  ┆ column_2 ┆ column_3 ┆ column_4 │\n",
       "│ ---       ┆ ---      ┆ ---      ┆ ---      │\n",
       "│ str       ┆ str      ┆ i64      ┆ i64      │\n",
       "╞═══════════╪══════════╪══════════╪══════════╡\n",
       "│ Mary      ┆ F        ┆ 7065     ┆ 1880     │\n",
       "│ Anna      ┆ F        ┆ 2604     ┆ 1880     │\n",
       "│ Emma      ┆ F        ┆ 2003     ┆ 1880     │\n",
       "│ Elizabeth ┆ F        ┆ 1939     ┆ 1880     │\n",
       "│ Minnie    ┆ F        ┆ 1746     ┆ 1880     │\n",
       "└───────────┴──────────┴──────────┴──────────┘"
      ]
     },
     "execution_count": 6,
     "metadata": {},
     "output_type": "execute_result"
    }
   ],
   "source": [
    "df.head(5)"
   ]
  },
  {
   "cell_type": "markdown",
   "metadata": {},
   "source": [
    "## 15. 末尾のN行を出力"
   ]
  },
  {
   "cell_type": "code",
   "execution_count": 7,
   "metadata": {},
   "outputs": [
    {
     "data": {
      "text/html": [
       "<div><style>\n",
       ".dataframe > thead > tr > th,\n",
       ".dataframe > tbody > tr > td {\n",
       "  text-align: right;\n",
       "  white-space: pre-wrap;\n",
       "}\n",
       "</style>\n",
       "<small>shape: (5, 4)</small><table border=\"1\" class=\"dataframe\"><thead><tr><th>column_1</th><th>column_2</th><th>column_3</th><th>column_4</th></tr><tr><td>str</td><td>str</td><td>i64</td><td>i64</td></tr></thead><tbody><tr><td>&quot;Benjamin&quot;</td><td>&quot;M&quot;</td><td>13381</td><td>2018</td></tr><tr><td>&quot;Elijah&quot;</td><td>&quot;M&quot;</td><td>12886</td><td>2018</td></tr><tr><td>&quot;Lucas&quot;</td><td>&quot;M&quot;</td><td>12585</td><td>2018</td></tr><tr><td>&quot;Mason&quot;</td><td>&quot;M&quot;</td><td>12435</td><td>2018</td></tr><tr><td>&quot;Logan&quot;</td><td>&quot;M&quot;</td><td>12352</td><td>2018</td></tr></tbody></table></div>"
      ],
      "text/plain": [
       "shape: (5, 4)\n",
       "┌──────────┬──────────┬──────────┬──────────┐\n",
       "│ column_1 ┆ column_2 ┆ column_3 ┆ column_4 │\n",
       "│ ---      ┆ ---      ┆ ---      ┆ ---      │\n",
       "│ str      ┆ str      ┆ i64      ┆ i64      │\n",
       "╞══════════╪══════════╪══════════╪══════════╡\n",
       "│ Benjamin ┆ M        ┆ 13381    ┆ 2018     │\n",
       "│ Elijah   ┆ M        ┆ 12886    ┆ 2018     │\n",
       "│ Lucas    ┆ M        ┆ 12585    ┆ 2018     │\n",
       "│ Mason    ┆ M        ┆ 12435    ┆ 2018     │\n",
       "│ Logan    ┆ M        ┆ 12352    ┆ 2018     │\n",
       "└──────────┴──────────┴──────────┴──────────┘"
      ]
     },
     "execution_count": 7,
     "metadata": {},
     "output_type": "execute_result"
    }
   ],
   "source": [
    "df.tail(5)"
   ]
  },
  {
   "cell_type": "markdown",
   "metadata": {},
   "source": [
    "## 16. ファイルをN分割する"
   ]
  },
  {
   "cell_type": "code",
   "execution_count": 8,
   "metadata": {},
   "outputs": [],
   "source": [
    "N = 3\n",
    "\n",
    "step = -(-len(df) // N)\n",
    "for n in range(N):\n",
    "    splitted = df[n*step:(n+1)*step]\n",
    "    splitted.write_csv(Path(os.getcwd()) / f\"split-{n}.txt\", has_header=False, separator=\"\\t\")"
   ]
  },
  {
   "cell_type": "markdown",
   "metadata": {},
   "source": [
    "## 17. １列目の文字列の異なり"
   ]
  },
  {
   "cell_type": "code",
   "execution_count": 9,
   "metadata": {},
   "outputs": [
    {
     "data": {
      "text/html": [
       "<div><style>\n",
       ".dataframe > thead > tr > th,\n",
       ".dataframe > tbody > tr > td {\n",
       "  text-align: right;\n",
       "  white-space: pre-wrap;\n",
       "}\n",
       "</style>\n",
       "<small>shape: (136,)</small><table border=\"1\" class=\"dataframe\"><thead><tr><th>column_1</th></tr><tr><td>str</td></tr></thead><tbody><tr><td>&quot;Abigail&quot;</td></tr><tr><td>&quot;Aiden&quot;</td></tr><tr><td>&quot;Alexander&quot;</td></tr><tr><td>&quot;Alexis&quot;</td></tr><tr><td>&quot;Alice&quot;</td></tr><tr><td>&quot;Amanda&quot;</td></tr><tr><td>&quot;Amelia&quot;</td></tr><tr><td>&quot;Amy&quot;</td></tr><tr><td>&quot;Andrew&quot;</td></tr><tr><td>&quot;Angela&quot;</td></tr><tr><td>&quot;Anna&quot;</td></tr><tr><td>&quot;Annie&quot;</td></tr><tr><td>&hellip;</td></tr><tr><td>&quot;Sophia&quot;</td></tr><tr><td>&quot;Stephanie&quot;</td></tr><tr><td>&quot;Steven&quot;</td></tr><tr><td>&quot;Susan&quot;</td></tr><tr><td>&quot;Tammy&quot;</td></tr><tr><td>&quot;Taylor&quot;</td></tr><tr><td>&quot;Thomas&quot;</td></tr><tr><td>&quot;Tracy&quot;</td></tr><tr><td>&quot;Tyler&quot;</td></tr><tr><td>&quot;Virginia&quot;</td></tr><tr><td>&quot;Walter&quot;</td></tr><tr><td>&quot;William&quot;</td></tr></tbody></table></div>"
      ],
      "text/plain": [
       "shape: (136,)\n",
       "Series: 'column_1' [str]\n",
       "[\n",
       "\t\"Abigail\"\n",
       "\t\"Aiden\"\n",
       "\t\"Alexander\"\n",
       "\t\"Alexis\"\n",
       "\t\"Alice\"\n",
       "\t\"Amanda\"\n",
       "\t\"Amelia\"\n",
       "\t\"Amy\"\n",
       "\t\"Andrew\"\n",
       "\t\"Angela\"\n",
       "\t\"Anna\"\n",
       "\t\"Annie\"\n",
       "\t…\n",
       "\t\"Shirley\"\n",
       "\t\"Sophia\"\n",
       "\t\"Stephanie\"\n",
       "\t\"Steven\"\n",
       "\t\"Susan\"\n",
       "\t\"Tammy\"\n",
       "\t\"Taylor\"\n",
       "\t\"Thomas\"\n",
       "\t\"Tracy\"\n",
       "\t\"Tyler\"\n",
       "\t\"Virginia\"\n",
       "\t\"Walter\"\n",
       "\t\"William\"\n",
       "]"
      ]
     },
     "execution_count": 9,
     "metadata": {},
     "output_type": "execute_result"
    }
   ],
   "source": [
    "df[:, 0].unique().sort()"
   ]
  },
  {
   "cell_type": "markdown",
   "metadata": {},
   "source": [
    "## 18. 各行を3コラム目の数値の降順にソート"
   ]
  },
  {
   "cell_type": "code",
   "execution_count": 10,
   "metadata": {},
   "outputs": [
    {
     "data": {
      "text/html": [
       "<div><style>\n",
       ".dataframe > thead > tr > th,\n",
       ".dataframe > tbody > tr > td {\n",
       "  text-align: right;\n",
       "  white-space: pre-wrap;\n",
       "}\n",
       "</style>\n",
       "<small>shape: (2_780, 4)</small><table border=\"1\" class=\"dataframe\"><thead><tr><th>column_1</th><th>column_2</th><th>column_3</th><th>column_4</th></tr><tr><td>str</td><td>str</td><td>i64</td><td>i64</td></tr></thead><tbody><tr><td>&quot;Linda&quot;</td><td>&quot;F&quot;</td><td>99689</td><td>1947</td></tr><tr><td>&quot;Linda&quot;</td><td>&quot;F&quot;</td><td>96211</td><td>1948</td></tr><tr><td>&quot;James&quot;</td><td>&quot;M&quot;</td><td>94757</td><td>1947</td></tr><tr><td>&quot;Michael&quot;</td><td>&quot;M&quot;</td><td>92704</td><td>1957</td></tr><tr><td>&quot;Robert&quot;</td><td>&quot;M&quot;</td><td>91640</td><td>1947</td></tr><tr><td>&quot;Linda&quot;</td><td>&quot;F&quot;</td><td>91016</td><td>1949</td></tr><tr><td>&quot;Michael&quot;</td><td>&quot;M&quot;</td><td>90656</td><td>1956</td></tr><tr><td>&quot;Michael&quot;</td><td>&quot;M&quot;</td><td>90517</td><td>1958</td></tr><tr><td>&quot;James&quot;</td><td>&quot;M&quot;</td><td>88584</td><td>1948</td></tr><tr><td>&quot;Michael&quot;</td><td>&quot;M&quot;</td><td>88528</td><td>1954</td></tr><tr><td>&quot;Michael&quot;</td><td>&quot;M&quot;</td><td>88327</td><td>1955</td></tr><tr><td>&quot;John&quot;</td><td>&quot;M&quot;</td><td>88319</td><td>1947</td></tr><tr><td>&hellip;</td><td>&hellip;</td><td>&hellip;</td><td>&hellip;</td></tr><tr><td>&quot;Clara&quot;</td><td>&quot;F&quot;</td><td>1548</td><td>1883</td></tr><tr><td>&quot;Alice&quot;</td><td>&quot;F&quot;</td><td>1542</td><td>1882</td></tr><tr><td>&quot;Bertha&quot;</td><td>&quot;F&quot;</td><td>1508</td><td>1882</td></tr><tr><td>&quot;Annie&quot;</td><td>&quot;F&quot;</td><td>1492</td><td>1882</td></tr><tr><td>&quot;Ida&quot;</td><td>&quot;F&quot;</td><td>1472</td><td>1880</td></tr><tr><td>&quot;Ida&quot;</td><td>&quot;F&quot;</td><td>1439</td><td>1881</td></tr><tr><td>&quot;Alice&quot;</td><td>&quot;F&quot;</td><td>1414</td><td>1880</td></tr><tr><td>&quot;Annie&quot;</td><td>&quot;F&quot;</td><td>1326</td><td>1881</td></tr><tr><td>&quot;Bertha&quot;</td><td>&quot;F&quot;</td><td>1324</td><td>1881</td></tr><tr><td>&quot;Bertha&quot;</td><td>&quot;F&quot;</td><td>1320</td><td>1880</td></tr><tr><td>&quot;Alice&quot;</td><td>&quot;F&quot;</td><td>1308</td><td>1881</td></tr><tr><td>&quot;Sarah&quot;</td><td>&quot;F&quot;</td><td>1288</td><td>1880</td></tr></tbody></table></div>"
      ],
      "text/plain": [
       "shape: (2_780, 4)\n",
       "┌──────────┬──────────┬──────────┬──────────┐\n",
       "│ column_1 ┆ column_2 ┆ column_3 ┆ column_4 │\n",
       "│ ---      ┆ ---      ┆ ---      ┆ ---      │\n",
       "│ str      ┆ str      ┆ i64      ┆ i64      │\n",
       "╞══════════╪══════════╪══════════╪══════════╡\n",
       "│ Linda    ┆ F        ┆ 99689    ┆ 1947     │\n",
       "│ Linda    ┆ F        ┆ 96211    ┆ 1948     │\n",
       "│ James    ┆ M        ┆ 94757    ┆ 1947     │\n",
       "│ Michael  ┆ M        ┆ 92704    ┆ 1957     │\n",
       "│ …        ┆ …        ┆ …        ┆ …        │\n",
       "│ Bertha   ┆ F        ┆ 1324     ┆ 1881     │\n",
       "│ Bertha   ┆ F        ┆ 1320     ┆ 1880     │\n",
       "│ Alice    ┆ F        ┆ 1308     ┆ 1881     │\n",
       "│ Sarah    ┆ F        ┆ 1288     ┆ 1880     │\n",
       "└──────────┴──────────┴──────────┴──────────┘"
      ]
     },
     "execution_count": 10,
     "metadata": {},
     "output_type": "execute_result"
    }
   ],
   "source": [
    "df.sort(by=[\"column_3\", \"column_1\"], descending=[True, False])"
   ]
  },
  {
   "cell_type": "markdown",
   "metadata": {},
   "source": [
    "## 19. 各行の1コラム目の文字列の出現頻度を求め，出現頻度の高い順に並べる"
   ]
  },
  {
   "cell_type": "code",
   "execution_count": 11,
   "metadata": {},
   "outputs": [
    {
     "data": {
      "text/html": [
       "<div><style>\n",
       ".dataframe > thead > tr > th,\n",
       ".dataframe > tbody > tr > td {\n",
       "  text-align: right;\n",
       "  white-space: pre-wrap;\n",
       "}\n",
       "</style>\n",
       "<small>shape: (136, 2)</small><table border=\"1\" class=\"dataframe\"><thead><tr><th>count</th><th>column_1</th></tr><tr><td>u32</td><td>str</td></tr></thead><tbody><tr><td>118</td><td>&quot;James&quot;</td></tr><tr><td>111</td><td>&quot;William&quot;</td></tr><tr><td>108</td><td>&quot;Robert&quot;</td></tr><tr><td>108</td><td>&quot;John&quot;</td></tr><tr><td>92</td><td>&quot;Mary&quot;</td></tr><tr><td>75</td><td>&quot;Charles&quot;</td></tr><tr><td>74</td><td>&quot;Michael&quot;</td></tr><tr><td>73</td><td>&quot;Elizabeth&quot;</td></tr><tr><td>70</td><td>&quot;Joseph&quot;</td></tr><tr><td>60</td><td>&quot;Margaret&quot;</td></tr><tr><td>58</td><td>&quot;Thomas&quot;</td></tr><tr><td>58</td><td>&quot;George&quot;</td></tr><tr><td>&hellip;</td><td>&hellip;</td></tr><tr><td>1</td><td>&quot;Walter&quot;</td></tr><tr><td>1</td><td>&quot;Tracy&quot;</td></tr><tr><td>1</td><td>&quot;Scott&quot;</td></tr><tr><td>1</td><td>&quot;Rachel&quot;</td></tr><tr><td>1</td><td>&quot;Pamela&quot;</td></tr><tr><td>1</td><td>&quot;Lucas&quot;</td></tr><tr><td>1</td><td>&quot;Lori&quot;</td></tr><tr><td>1</td><td>&quot;Laura&quot;</td></tr><tr><td>1</td><td>&quot;Kelly&quot;</td></tr><tr><td>1</td><td>&quot;Julie&quot;</td></tr><tr><td>1</td><td>&quot;Crystal&quot;</td></tr><tr><td>1</td><td>&quot;Carolyn&quot;</td></tr></tbody></table></div>"
      ],
      "text/plain": [
       "shape: (136, 2)\n",
       "┌───────┬──────────┐\n",
       "│ count ┆ column_1 │\n",
       "│ ---   ┆ ---      │\n",
       "│ u32   ┆ str      │\n",
       "╞═══════╪══════════╡\n",
       "│ 118   ┆ James    │\n",
       "│ 111   ┆ William  │\n",
       "│ 108   ┆ Robert   │\n",
       "│ 108   ┆ John     │\n",
       "│ …     ┆ …        │\n",
       "│ 1     ┆ Kelly    │\n",
       "│ 1     ┆ Julie    │\n",
       "│ 1     ┆ Crystal  │\n",
       "│ 1     ┆ Carolyn  │\n",
       "└───────┴──────────┘"
      ]
     },
     "execution_count": 11,
     "metadata": {},
     "output_type": "execute_result"
    }
   ],
   "source": [
    "df.join(df.group_by(by=\"column_1\").count(), on=\"column_1\") \\\n",
    "    .select(pl.col(\"count\"), pl.col(\"column_1\")) \\\n",
    "    .unique() \\\n",
    "    .sort(by=[\"count\", \"column_1\"], descending=[True, True])"
   ]
  }
 ],
 "metadata": {
  "kernelspec": {
   "display_name": ".venv",
   "language": "python",
   "name": "python3"
  },
  "language_info": {
   "codemirror_mode": {
    "name": "ipython",
    "version": 3
   },
   "file_extension": ".py",
   "mimetype": "text/x-python",
   "name": "python",
   "nbconvert_exporter": "python",
   "pygments_lexer": "ipython3",
   "version": "3.10.13"
  }
 },
 "nbformat": 4,
 "nbformat_minor": 2
}
